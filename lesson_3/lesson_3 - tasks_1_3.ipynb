{
 "cells": [
  {
   "cell_type": "markdown",
   "metadata": {},
   "source": [
    "__Задача 1__\n",
    "\n",
    "Даны значения зарплат из выборки выпускников: \n",
    "```\n",
    "100, 80, 75, 77, 89, 33, 45, 25, 65, 17, 30, 24, 57, 55, 70, 75, 65, 84, 90, 150.\n",
    "```\n",
    "Без использования статистических функций вроде `mean`, `std`, `var`, посчитать среднее арифметическое, среднее квадратичное отклонение, смещенную и несмещенную оценки дисперсий для данной выборки.\n",
    "\n",
    "Можно затем посчитать те же значения с использованием статистических функций, чтобы проверить себя."
   ]
  },
  {
   "cell_type": "code",
   "execution_count": 1,
   "metadata": {},
   "outputs": [],
   "source": [
    "import numpy as np\n",
    "import pandas as pd\n",
    "from matplotlib import pyplot as plt\n",
    "import warnings\n",
    "warnings.filterwarnings('ignore')"
   ]
  },
  {
   "cell_type": "code",
   "execution_count": 2,
   "metadata": {},
   "outputs": [],
   "source": [
    "samples = pd.DataFrame([100, 80, 75, 77, 89, 33, 45, 25, 65, 17, 30, 24, 57, 55, 70, 75, 65, 84, 90, 150])\n",
    "length = samples[0].count()"
   ]
  },
  {
   "cell_type": "code",
   "execution_count": 3,
   "metadata": {},
   "outputs": [
    {
     "name": "stdout",
     "output_type": "stream",
     "text": [
      "среднее по формуле: 65.3, стат.методом: 65.3\n"
     ]
    }
   ],
   "source": [
    "mean = samples[0].sum() / length\n",
    "print(f'среднее по формуле: {mean}, стат.методом: {samples[0].mean()}')"
   ]
  },
  {
   "cell_type": "code",
   "execution_count": 4,
   "metadata": {},
   "outputs": [
    {
     "name": "stdout",
     "output_type": "stream",
     "text": [
      "ср.квадр.отклонение по формуле: 30.823854398825596, стат.методом: 30.823854398825596\n"
     ]
    }
   ],
   "source": [
    "sigma_biased = np.sqrt(((samples[0] - mean)**2).sum() / length)\n",
    "print(f'ср.квадр.отклонение по формуле: {sigma_biased}, стат.методом: {samples[0].std(ddof=0)}')"
   ]
  },
  {
   "cell_type": "code",
   "execution_count": 5,
   "metadata": {},
   "outputs": [
    {
     "data": {
      "text/plain": [
       "(31.624607341019814, 31.624607341019814)"
      ]
     },
     "execution_count": 5,
     "metadata": {},
     "output_type": "execute_result"
    }
   ],
   "source": [
    "sigma_unbiased = np.sqrt(((samples[0] - mean)**2).sum() / (length - 1))\n",
    "(sigma_unbiased, samples[0].std(ddof=1))"
   ]
  },
  {
   "cell_type": "code",
   "execution_count": 6,
   "metadata": {},
   "outputs": [
    {
     "name": "stdout",
     "output_type": "stream",
     "text": [
      "смещённая дисперсия по формуле: 950.11, стат.методом: 950.11\n"
     ]
    }
   ],
   "source": [
    "D_biased = sigma_biased**2\n",
    "print(f'смещённая дисперсия по формуле: {D_biased}, стат.методом: {samples[0].var(ddof=0)}')"
   ]
  },
  {
   "cell_type": "code",
   "execution_count": 7,
   "metadata": {},
   "outputs": [
    {
     "name": "stdout",
     "output_type": "stream",
     "text": [
      "несмещённая дисперсия по формуле: 1000.1157894736843, стат.методом: 1000.1157894736842\n"
     ]
    }
   ],
   "source": [
    "D_unbiased = sigma_unbiased**2\n",
    "print(f'несмещённая дисперсия по формуле: {D_unbiased}, стат.методом: {samples[0].var(ddof=1)}')"
   ]
  },
  {
   "cell_type": "markdown",
   "metadata": {},
   "source": [
    "__Задача 2__\n",
    "\n",
    "Для выборки из задачи 1 найти первый и третий квартили, интерквартильное расстояние. Найти выборсы в выборке, используя для этого \"усы\" из `boxplot`. В этой задаче можно использовать статистические функции."
   ]
  },
  {
   "cell_type": "code",
   "execution_count": 8,
   "metadata": {},
   "outputs": [
    {
     "data": {
      "text/plain": [
       "(42.0, 81.0)"
      ]
     },
     "execution_count": 8,
     "metadata": {},
     "output_type": "execute_result"
    }
   ],
   "source": [
    "(quartile_1, quartile_3) = samples[0].quantile([0.25, 0.75])\n",
    "(quartile_1, quartile_3)"
   ]
  },
  {
   "cell_type": "code",
   "execution_count": 9,
   "metadata": {},
   "outputs": [
    {
     "data": {
      "text/plain": [
       "39.0"
      ]
     },
     "execution_count": 9,
     "metadata": {},
     "output_type": "execute_result"
    }
   ],
   "source": [
    "interquartile_dist = quartile_3 - quartile_1\n",
    "interquartile_dist"
   ]
  },
  {
   "cell_type": "code",
   "execution_count": 10,
   "metadata": {},
   "outputs": [
    {
     "data": {
      "text/plain": [
       "<AxesSubplot:>"
      ]
     },
     "execution_count": 10,
     "metadata": {},
     "output_type": "execute_result"
    },
    {
     "data": {
      "image/png": "[encoded data removed]",
      "text/plain": [
       "<Figure size 432x288 with 1 Axes>"
      ]
     },
     "metadata": {
      "needs_background": "light"
     },
     "output_type": "display_data"
    }
   ],
   "source": [
    "samples[0].hist(bins=10)"
   ]
  },
  {
   "cell_type": "code",
   "execution_count": 11,
   "metadata": {},
   "outputs": [
    {
     "data": {
      "text/plain": [
       "<AxesSubplot:>"
      ]
     },
     "execution_count": 11,
     "metadata": {},
     "output_type": "execute_result"
    },
    {
     "data": {
      "image/png": "[encoded data removed]",
      "text/plain": [
       "<Figure size 432x288 with 1 Axes>"
      ]
     },
     "metadata": {
      "needs_background": "light"
     },
     "output_type": "display_data"
    }
   ],
   "source": [
    "samples[[0]].boxplot()"
   ]
  },
  {
   "cell_type": "code",
   "execution_count": 12,
   "metadata": {},
   "outputs": [
    {
     "data": {
      "text/plain": [
       "(-16.5, 139.5)"
      ]
     },
     "execution_count": 12,
     "metadata": {},
     "output_type": "execute_result"
    }
   ],
   "source": [
    "boxplot_range = (quartile_1 - 1.5 * interquartile_dist, quartile_3 + 1.5 * interquartile_dist)\n",
    "boxplot_range"
   ]
  },
  {
   "cell_type": "code",
   "execution_count": 13,
   "metadata": {},
   "outputs": [
    {
     "data": {
      "text/plain": [
       "1"
      ]
     },
     "execution_count": 13,
     "metadata": {},
     "output_type": "execute_result"
    }
   ],
   "source": [
    "outliers = samples.loc[(samples[0] < boxplot_range[0]) | (samples[0] > boxplot_range[1])]\n",
    "\n",
    "outliers.shape[0]"
   ]
  },
  {
   "cell_type": "markdown",
   "metadata": {},
   "source": [
    "__Задача 3__\n",
    "\n",
    "В университет на факультеты `A` и `B` поступило равное количество студентов, а на факультет `C` студентов поступило столько же, сколько на `A` и `B` вместе. Вероятность того, что студент факультета `A` сдаст первую сессию, равна 0.8. Для студента факультета `B` эта вероятность равна 0.7, а для студента факультета `C` - 0.9. Студент сдал первую сессию. Какова вероятность, что он учится: a) на факультете `A`? б) на факультете `B`? в) на факультете `C`?\n",
    "\n",
    "_Замечание_: да, эта задача не на тему описательных статистик, но тема важная, и её стоит иногда освежать в памяти."
   ]
  },
  {
   "cell_type": "markdown",
   "metadata": {},
   "source": [
    "Вероятность того, что студент учится на каком-либо факультете при условии сдачи первой сессии, находим по формуле Байеса. Для этого сначала рассчитаем вероятность сдачи первой сессии по формуле полной вероятности, где вероятности попадания студента на факультет A равна $P(A) = \\frac{1}{4}$, B - $P(B) = \\frac{1}{4}$ и С - $P(C) = \\frac{1}{2}$ (исходя из условий, на факультет А поступило х студентов, на В - х, на С - 2х, следовательно, общее количество студентов = 4х, отсюда и находим вероятности попадания студента в тот или иной факультет):\n",
    "\n",
    "$$P(сессия) = P(A)\\cdot P(сессия|A) + P(B)\\cdot P(сессия|B) + P(С)\\cdot P(сессия|C) = 0.25\\cdot0.8 + 0.25\\cdot0.7 + 0.5\\cdot0.9 = \\frac{33}{40} = 0.825$$\n",
    "\n",
    "Теперь можно найти искомые вероятности:\n",
    "\n",
    "$$a)\\,\\, P(A|сессия) = \\frac{P(сессия|A)\\cdot P(A)}{P(сессия)} = \\frac{0.8\\cdot0.25}{0.825} = \\frac{8}{33}\\approx 0.242$$\n",
    "\n",
    "$$б)\\,\\, P(B|сессия) = \\frac{P(сессия|B)\\cdot P(B)}{P(сессия)} = \\frac{0.7\\cdot0.25}{0.825} = \\frac{7}{33}\\approx 0.212$$\n",
    "\n",
    "$$в)\\,\\, P(C|сессия) = \\frac{P(сессия|C)\\cdot P(C)}{P(сессия)} = \\frac{0.9\\cdot0.5}{0.825} = \\frac{18}{33}\\approx 0.545$$"
   ]
  }
 ],
 "metadata": {
  "kernelspec": {
   "display_name": "Python 3",
   "language": "python",
   "name": "python3"
  },
  "language_info": {
   "codemirror_mode": {
    "name": "ipython",
    "version": 3
   },
   "file_extension": ".py",
   "mimetype": "text/x-python",
   "name": "python",
   "nbconvert_exporter": "python",
   "pygments_lexer": "ipython3",
   "version": "3.7.3"
  }
 },
 "nbformat": 4,
 "nbformat_minor": 2
}
