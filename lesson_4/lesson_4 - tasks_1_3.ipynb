{
 "cells": [
  {
   "cell_type": "markdown",
   "metadata": {},
   "source": [
    "__Задача 1__\n",
    "\n",
    "О непрерывной равномерно распределенной случайной величине `B` известно, что ее дисперсия равна 0.2. Можно ли найти правую границу величины `B` и ее среднее значение зная, что левая граница равна 0.5? Если да, найдите ее."
   ]
  },
  {
   "cell_type": "markdown",
   "metadata": {},
   "source": [
    "Дисперсия равномерно распределённой случайной величины равна $D(X) = \\dfrac{(b - a)^2}{12}$, следовательно, зная левую границу, можно найти правую: $b = \\sqrt{12\\cdot D} + a = \\sqrt{12\\cdot 0.2} + 0.5 \\approx 2.0492 $.\n",
    "\n",
    "Тогда находим мат.ожидание: $M(X) = \\dfrac{a + b}{2} = \\frac{2.0492 + 0.5}{2} \\approx 1.2746$"
   ]
  },
  {
   "cell_type": "code",
   "execution_count": 1,
   "metadata": {},
   "outputs": [
    {
     "data": {
      "text/plain": [
       "2.049193338482967"
      ]
     },
     "execution_count": 1,
     "metadata": {},
     "output_type": "execute_result"
    }
   ],
   "source": [
    "import numpy as np\n",
    "\n",
    "a = 0.5\n",
    "b = np.sqrt(12*0.2) + a\n",
    "b"
   ]
  },
  {
   "cell_type": "code",
   "execution_count": 2,
   "metadata": {},
   "outputs": [
    {
     "data": {
      "text/plain": [
       "1.2745966692414834"
      ]
     },
     "execution_count": 2,
     "metadata": {},
     "output_type": "execute_result"
    }
   ],
   "source": [
    "mean = (a + b) / 2\n",
    "mean"
   ]
  },
  {
   "cell_type": "code",
   "execution_count": 3,
   "metadata": {},
   "outputs": [
    {
     "data": {
      "text/plain": [
       "0.20000000000000004"
      ]
     },
     "execution_count": 3,
     "metadata": {},
     "output_type": "execute_result"
    }
   ],
   "source": [
    "disp = (b - a)**2 / 12\n",
    "disp"
   ]
  },
  {
   "cell_type": "code",
   "execution_count": 4,
   "metadata": {},
   "outputs": [
    {
     "data": {
      "text/plain": [
       "1.275195636623775"
      ]
     },
     "execution_count": 4,
     "metadata": {},
     "output_type": "execute_result"
    }
   ],
   "source": [
    "samples = np.random.uniform(a, b, size=100000)\n",
    "\n",
    "samples.mean()"
   ]
  },
  {
   "cell_type": "code",
   "execution_count": 5,
   "metadata": {},
   "outputs": [
    {
     "data": {
      "text/plain": [
       "0.19972324527807145"
      ]
     },
     "execution_count": 5,
     "metadata": {},
     "output_type": "execute_result"
    }
   ],
   "source": [
    "samples.var(ddof=0)"
   ]
  },
  {
   "cell_type": "markdown",
   "metadata": {},
   "source": [
    "__Задача 2__\n",
    "\n",
    "На сколько сигм (средних квадратических отклонений) отклоняется рост человека, равный 190 см, от математического ожидания роста в популяции, в которой `M(X) = 178` и `D(X) = 25`?"
   ]
  },
  {
   "cell_type": "markdown",
   "metadata": {},
   "source": [
    "Учитывая, что дисперсия равна квадрату ср.квадратического отклонения, находим, что сигма в данной популяции = 5. Следовательно, рост человека, равный 190 см, отклоняется от мат.ожидания (178 см) на 2.4 сигмы."
   ]
  },
  {
   "cell_type": "markdown",
   "metadata": {},
   "source": [
    "__Задача 3__\n",
    "\n",
    "Рост взрослого населения города `X` имеет нормальное распределение, причем, средний рост равен 174 см, а среднее квадратическое отклонение равно 8 см. Без использования сторонних библиотек (`numpy`, `scipy`, `pandas` и пр.) посчитайте, какова вероятность того, что случайным образом выбранный взрослый человек имеет рост:\n",
    "1. больше 182 см?\n",
    "2. больше 190 см?\n",
    "3. от 166 см до 190 см?\n",
    "4. от 166 см до 182 см?\n",
    "5. от 158 см до 190 см?\n",
    "6. не выше 150 см или не ниже 190 см?\n",
    "7. не выше 150 см или не ниже 198 см?\n",
    "8. ниже 166 см?"
   ]
  },
  {
   "cell_type": "markdown",
   "metadata": {},
   "source": [
    "Для приблизительных расчётов можно использовать следующие правила:\n",
    "\n",
    "* Интерквартильный размах содержит 50% её вероятностной массы.\n",
    "* Интервал от $a - \\sigma$ до $a + \\sigma$ содержит около 68% вероятностной массы.\n",
    "* От $a - 2\\sigma$ до $a + 2\\sigma$ — около 95% массы (__правило двух сигм__).\n",
    "* От $a - 3\\sigma$ до $a + 3\\sigma$ — около 99.7% массы (__правило трёх сигм__)."
   ]
  },
  {
   "cell_type": "markdown",
   "metadata": {},
   "source": [
    "1. рост > 182 см означает, что рост выходит за пределы интервала $a - \\sigma$ до $a + \\sigma$ справа. Т.е. вероятность можно рассчитать по формуле $\\frac{1 - 0.68}{2} = 0.16$\n",
    "2. рост > 190 см означает, что рост выходит за пределы интервала $a - 2\\sigma$ до $a + 2\\sigma$ справа. Т.е. вероятность можно рассчитать по формуле $\\frac{1 - 0.95}{2} = 0.025$\n",
    "3. рост от 166 см до 190 см означает, что рост попадает в интервал $a - \\sigma$ до $a + 2\\sigma$. Т.е. вероятность равна 0.68 + $\\frac{0.95 - 0.68}{2} = 0.815$\n",
    "4. рост от 166 см до 182 см означает, что рост попадает в интервал $a - \\sigma$ до $a + \\sigma$. Т.е. вероятность равна 0.68\n",
    "5. рост от 158 см до 190 см означает, что рост попадает в интервал $a - 2\\sigma$ до $a + 2\\sigma$. Т.е. вероятность равна 0.95\n",
    "6. рост не выше 150 см или не ниже 190 см означает, что рост выходит за рамки интервала $a - 3\\sigma$ до $a + 2\\sigma$. Т.е. вероятность равна $\\frac{1 - 0.997}{2} + \\frac{1 - 0.95}{2}$ = 0.0265\n",
    "7. рост не выше 150 см или не ниже 198 см означает, что рост выходит за рамки интервала $a - 3\\sigma$ до $a + 3\\sigma$. Т.е. вероятность равна 1 - 0.997 = 0.003\n",
    "8. рост < 166 см означает, что рост выходит за пределы интервала $a - \\sigma$ до $a + \\sigma$ слева. Т.е. вероятность можно рассчитать по формуле $\\frac{1 - 0.68}{2} = 0.16$"
   ]
  },
  {
   "cell_type": "code",
   "execution_count": 6,
   "metadata": {},
   "outputs": [],
   "source": [
    "import scipy.stats\n",
    "from matplotlib import pyplot as plt"
   ]
  },
  {
   "cell_type": "code",
   "execution_count": 7,
   "metadata": {},
   "outputs": [],
   "source": [
    "loc = 174\n",
    "scale = 8"
   ]
  },
  {
   "cell_type": "code",
   "execution_count": 8,
   "metadata": {},
   "outputs": [],
   "source": [
    "def normal(loc, scale, x):\n",
    "    return np.exp(- ((x - loc) ** 2) / (2 * scale ** 2)) / (scale * np.sqrt(2 * np.pi))"
   ]
  },
  {
   "cell_type": "code",
   "execution_count": 36,
   "metadata": {},
   "outputs": [
    {
     "data": {
      "text/plain": [
       "[<matplotlib.lines.Line2D at 0x27050fbef28>]"
      ]
     },
     "execution_count": 36,
     "metadata": {},
     "output_type": "execute_result"
    },
    {
     "data": {
      "image/png": "[encoded data removed]",
      "text/plain": [
       "<Figure size 432x288 with 1 Axes>"
      ]
     },
     "metadata": {
      "needs_background": "light"
     },
     "output_type": "display_data"
    }
   ],
   "source": [
    "start = loc - 4 * scale\n",
    "end = loc + 4 * scale\n",
    "step = 0.1\n",
    "heights_prob = {round(t, 1): sum([normal(loc, scale, x) * step for x in np.arange(start, t + step, step)]) for t in np.arange(start, end + step, step)}\n",
    "n = len(heights_prob)\n",
    "\n",
    "x_values = np.linspace(start, end, n)\n",
    "plt.plot(x_values, list(heights_prob.values()))"
   ]
  },
  {
   "cell_type": "code",
   "execution_count": 44,
   "metadata": {},
   "outputs": [
    {
     "name": "stdout",
     "output_type": "stream",
     "text": [
      "рост > 182 см: 0.15717692935312844\n",
      "рост > 190 см: 0.022444936191535647\n",
      "рост от 166 см до 190 см: 0.8174151839449201\n",
      "рост от 166 см до 182 см: 0.6826831907833273\n",
      "рост от 158 см до 190 см: 0.9544969240815017\n",
      "рост не выше 150 см или не ниже 190 см: 0.02379186461910343\n",
      "рост не выше 150 см или не ниже 198 см: 0.002700142295951835\n",
      "рост < 166 см: 0.15711524580705546\n"
     ]
    }
   ],
   "source": [
    "print(f'рост > 182 см: {1 - heights_prob[182.0]}')\n",
    "print(f'рост > 190 см: {1 - heights_prob[190.0]}')\n",
    "print(f'рост от 166 см до 190 см: {heights_prob[190.0] - heights_prob[166.0]}')\n",
    "print(f'рост от 166 см до 182 см: {heights_prob[182.0] - heights_prob[166.0]}')\n",
    "print(f'рост от 158 см до 190 см: {heights_prob[190.0] - heights_prob[158.0]}')\n",
    "print(f'рост не выше 150 см или не ниже 190 см: {heights_prob[150.0] + 1 - heights_prob[190.0]}')\n",
    "print(f'рост не выше 150 см или не ниже 198 см: {heights_prob[150.0] + 1 - heights_prob[198.0]}')\n",
    "print(f'рост < 166 см: {heights_prob[166.0 - step]}')"
   ]
  },
  {
   "cell_type": "code",
   "execution_count": 12,
   "metadata": {},
   "outputs": [
    {
     "data": {
      "text/plain": [
       "0.15865525393145707"
      ]
     },
     "execution_count": 12,
     "metadata": {},
     "output_type": "execute_result"
    }
   ],
   "source": [
    "scipy.stats.norm(loc, scale).sf(182)"
   ]
  },
  {
   "cell_type": "code",
   "execution_count": 13,
   "metadata": {},
   "outputs": [
    {
     "data": {
      "text/plain": [
       "0.022750131948179195"
      ]
     },
     "execution_count": 13,
     "metadata": {},
     "output_type": "execute_result"
    }
   ],
   "source": [
    "scipy.stats.norm(loc, scale).sf(190)"
   ]
  },
  {
   "cell_type": "code",
   "execution_count": 14,
   "metadata": {},
   "outputs": [
    {
     "data": {
      "text/plain": [
       "0.8185946141203637"
      ]
     },
     "execution_count": 14,
     "metadata": {},
     "output_type": "execute_result"
    }
   ],
   "source": [
    "scipy.stats.norm(loc, scale).sf(166) - scipy.stats.norm(loc, scale).sf(190)"
   ]
  },
  {
   "cell_type": "code",
   "execution_count": 15,
   "metadata": {},
   "outputs": [
    {
     "data": {
      "text/plain": [
       "0.6826894921370859"
      ]
     },
     "execution_count": 15,
     "metadata": {},
     "output_type": "execute_result"
    }
   ],
   "source": [
    "scipy.stats.norm(loc, scale).sf(166) - scipy.stats.norm(loc, scale).sf(182)"
   ]
  },
  {
   "cell_type": "code",
   "execution_count": 16,
   "metadata": {},
   "outputs": [
    {
     "data": {
      "text/plain": [
       "0.9544997361036416"
      ]
     },
     "execution_count": 16,
     "metadata": {},
     "output_type": "execute_result"
    }
   ],
   "source": [
    "scipy.stats.norm(loc, scale).sf(158) - scipy.stats.norm(loc, scale).sf(190)"
   ]
  },
  {
   "cell_type": "code",
   "execution_count": 17,
   "metadata": {},
   "outputs": [
    {
     "data": {
      "text/plain": [
       "0.024100029979809288"
      ]
     },
     "execution_count": 17,
     "metadata": {},
     "output_type": "execute_result"
    }
   ],
   "source": [
    "scipy.stats.norm(loc, scale).cdf(150) + scipy.stats.norm(loc, scale).sf(190)"
   ]
  },
  {
   "cell_type": "code",
   "execution_count": 18,
   "metadata": {},
   "outputs": [
    {
     "data": {
      "text/plain": [
       "0.0026997960632601866"
      ]
     },
     "execution_count": 18,
     "metadata": {},
     "output_type": "execute_result"
    }
   ],
   "source": [
    "scipy.stats.norm(loc, scale).cdf(150) + scipy.stats.norm(loc, scale).sf(198)"
   ]
  },
  {
   "cell_type": "code",
   "execution_count": 19,
   "metadata": {},
   "outputs": [
    {
     "data": {
      "text/plain": [
       "0.15865525393145707"
      ]
     },
     "execution_count": 19,
     "metadata": {},
     "output_type": "execute_result"
    }
   ],
   "source": [
    "scipy.stats.norm(loc, scale).cdf(166)"
   ]
  },
  {
   "cell_type": "code",
   "execution_count": null,
   "metadata": {},
   "outputs": [],
   "source": []
  }
 ],
 "metadata": {
  "kernelspec": {
   "display_name": "Python 3",
   "language": "python",
   "name": "python3"
  },
  "language_info": {
   "codemirror_mode": {
    "name": "ipython",
    "version": 3
   },
   "file_extension": ".py",
   "mimetype": "text/x-python",
   "name": "python",
   "nbconvert_exporter": "python",
   "pygments_lexer": "ipython3",
   "version": "3.7.3"
  }
 },
 "nbformat": 4,
 "nbformat_minor": 2
}
