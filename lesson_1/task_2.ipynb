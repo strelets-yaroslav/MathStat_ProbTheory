{
 "cells": [
  {
   "cell_type": "markdown",
   "metadata": {},
   "source": [
    "**Задача 2**\n",
    "\n",
    "Из ĸолоды в 52 ĸарты вынимают случайным образом 4 ĸарты. Найти число исходов, соответствующих тому, что был вытянут хотя бы один туз."
   ]
  },
  {
   "cell_type": "markdown",
   "metadata": {},
   "source": [
    "Будем искать число исходов следующим образом:\n",
    "\n",
    "1. общее число выборки 4 карт из 52 - $C_{52}^4$\n",
    "2. число способов вытянуть 4 карты из колоды без тузов - $C_{48}^4$\n",
    "3. число способов вытянуть 4 карты, среди которых окажется хотя бы один туз: $C_{52}^4 - C_{48}^4$\n",
    "\n",
    "$$C_{52}^4 - C_{48}^4 = \\frac{52!}{4!\\cdot48!} - \\frac{48!}{4!\\cdot44!} = 270725 - 194580 = 76145$$"
   ]
  },
  {
   "cell_type": "code",
   "execution_count": 4,
   "metadata": {},
   "outputs": [
    {
     "data": {
      "text/plain": [
       "76145"
      ]
     },
     "execution_count": 4,
     "metadata": {},
     "output_type": "execute_result"
    }
   ],
   "source": [
    "import numpy as np\n",
    "\n",
    "\n",
    "def combinations(n, k):\n",
    "    return np.math.factorial(n) // (np.math.factorial(k) * np.math.factorial(n - k))\n",
    "\n",
    "\n",
    "combinations(52, 4) - combinations(48, 4)"
   ]
  },
  {
   "cell_type": "code",
   "execution_count": null,
   "metadata": {},
   "outputs": [],
   "source": []
  }
 ],
 "metadata": {
  "kernelspec": {
   "display_name": "Python 3",
   "language": "python",
   "name": "python3"
  },
  "language_info": {
   "codemirror_mode": {
    "name": "ipython",
    "version": 3
   },
   "file_extension": ".py",
   "mimetype": "text/x-python",
   "name": "python",
   "nbconvert_exporter": "python",
   "pygments_lexer": "ipython3",
   "version": "3.7.3"
  }
 },
 "nbformat": 4,
 "nbformat_minor": 2
}
