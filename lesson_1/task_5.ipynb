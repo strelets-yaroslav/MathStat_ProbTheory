{
 "cells": [
  {
   "cell_type": "markdown",
   "metadata": {},
   "source": [
    "**Задача 5**\n",
    "\n",
    "Бросается игральная ĸость. Пусть событие  A  - появление чётного числа, событие  B  - появление числа больше трёх. Являются ли эти события независимыми?"
   ]
  },
  {
   "cell_type": "markdown",
   "metadata": {},
   "source": [
    "Вероятность наступления события А равна $\\frac{3}{6} = \\frac{1}{2}$ - число чётных = 3, общее число = 6, события В - также $\\frac{1}{2}$, т.к. чисел > 3 = 3.\n",
    "\n",
    "Вероятность события А и события В: $P(AB) = \\frac{2}{6} = \\frac{1}{3}$ - число чётных и >3 = 2.\n",
    "\n",
    "Вероятность события А при условии наступления события В тогда равна $P(A|B) = \\frac{P(AB)}{P(B)} = \\frac{2}{3}$\n",
    "\n",
    "Учитывая, что вероятность А изменилась от наступления В, можно заключить, что А и В - зависимые события."
   ]
  },
  {
   "cell_type": "code",
   "execution_count": null,
   "metadata": {},
   "outputs": [],
   "source": []
  }
 ],
 "metadata": {
  "kernelspec": {
   "display_name": "Python 3",
   "language": "python",
   "name": "python3"
  },
  "language_info": {
   "codemirror_mode": {
    "name": "ipython",
    "version": 3
   },
   "file_extension": ".py",
   "mimetype": "text/x-python",
   "name": "python",
   "nbconvert_exporter": "python",
   "pygments_lexer": "ipython3",
   "version": "3.7.3"
  }
 },
 "nbformat": 4,
 "nbformat_minor": 2
}
