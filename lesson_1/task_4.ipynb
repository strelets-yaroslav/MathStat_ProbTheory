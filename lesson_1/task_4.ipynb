{
 "cells": [
  {
   "cell_type": "markdown",
   "metadata": {},
   "source": [
    "**Задача 4**\n",
    "\n",
    "Из 60 вопросов, входящих в эĸзаменационные билеты, студент знает 50. Каĸова вероятность того, что среди трёх наугад выбранных вопросов студент знает: а) все? б) два?"
   ]
  },
  {
   "cell_type": "markdown",
   "metadata": {},
   "source": [
    "Вероятность рассчитываем по формуле $\\frac{m}{n}$, где $n$ - общее число исходов, $m$ - число исходов, удовлетворяющих условию.\n",
    "\n",
    "Общее число выборки 3 билетов из 60 (порядок не важен) = $C_{60}^3$"
   ]
  },
  {
   "cell_type": "markdown",
   "metadata": {},
   "source": [
    "**а)** Число благоприятных событий = $C_{50}^3$\n",
    "\n",
    "Тогда вероятность равна\n",
    "\n",
    "$$P(A) = \\frac{C_{50}^3}{C_{60}^3} = \\frac{\\frac{50!}{3!\\cdot47!}}{\\frac{60!}{3!\\cdot57!}} = \\frac{50!\\cdot57!}{60!\\cdot47!} = \\frac{50*49*48}{60*59*58} = 0,57276$$"
   ]
  },
  {
   "cell_type": "markdown",
   "metadata": {},
   "source": [
    "**б)** Число благоприятных событий = число сочетаний для двух верных ответов * число сочетаний для одного неверного:\n",
    "\n",
    "$$C_{50}^2 \\cdot C_{10}^1$$\n",
    "\n",
    "Тогда вероятность равна\n",
    "\n",
    "$$P(A) = \\frac{C_{50}^2\\cdot C_{10}^1}{C_{60}^3} = \\frac{\\frac{50!}{2!\\cdot48!}\\cdot 10}{\\frac{60!}{3!\\cdot57!}} = \\frac{50!\\cdot 57!\\cdot 3 \\cdot 10}{60!\\cdot48!} = \\frac{50*49*30}{60*59*58} = 0,358$$"
   ]
  },
  {
   "cell_type": "code",
   "execution_count": null,
   "metadata": {},
   "outputs": [],
   "source": []
  }
 ],
 "metadata": {
  "kernelspec": {
   "display_name": "Python 3",
   "language": "python",
   "name": "python3"
  },
  "language_info": {
   "codemirror_mode": {
    "name": "ipython",
    "version": 3
   },
   "file_extension": ".py",
   "mimetype": "text/x-python",
   "name": "python",
   "nbconvert_exporter": "python",
   "pygments_lexer": "ipython3",
   "version": "3.7.3"
  }
 },
 "nbformat": 4,
 "nbformat_minor": 2
}
