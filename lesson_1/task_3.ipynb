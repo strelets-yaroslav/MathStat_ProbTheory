{
 "cells": [
  {
   "cell_type": "markdown",
   "metadata": {},
   "source": [
    "**Задача 3**\n",
    "\n",
    "Семь человеĸ рассаживаются наудачу на сĸамейĸе. Каĸова вероятность того, что два определённых человеĸа будут сидеть рядом?"
   ]
  },
  {
   "cell_type": "markdown",
   "metadata": {},
   "source": [
    "Общее число вариантов рассадки - $n = 7!$\n",
    "\n",
    "Найдём число вариантов рассадки пары:\n",
    "\n",
    "1. число способов рассадки оставшихся 5 человек = $5!$\n",
    "2. число способов рассадки пары (как целой единицы) = 6\n",
    "3. число способов рассадки внутри пары = $2! = 2$\n",
    "\n",
    "Тогда вероятность - $P(A) = \\frac{m}{n} = \\frac{5!\\cdot6\\cdot2}{7!} = \\frac{2}{7}$"
   ]
  },
  {
   "cell_type": "code",
   "execution_count": null,
   "metadata": {},
   "outputs": [],
   "source": []
  }
 ],
 "metadata": {
  "kernelspec": {
   "display_name": "Python 3",
   "language": "python",
   "name": "python3"
  },
  "language_info": {
   "codemirror_mode": {
    "name": "ipython",
    "version": 3
   },
   "file_extension": ".py",
   "mimetype": "text/x-python",
   "name": "python",
   "nbconvert_exporter": "python",
   "pygments_lexer": "ipython3",
   "version": "3.7.3"
  }
 },
 "nbformat": 4,
 "nbformat_minor": 2
}
