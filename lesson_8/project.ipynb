{
 "cells": [
  {
   "cell_type": "markdown",
   "metadata": {},
   "source": [
    "Определить взаимосвязь между курсом доллара (USDRUB) и курсом нефти (BRENT).\n",
    "Построить модели прогнозирования курса доллара разными методами анализа (регрессионный, нейронные сети, ... - 3-5 вариантов):\n",
    "1. учитывая только курс доллара\n",
    "2. учитывая курс BRENT\n",
    "3. построить модель, основанную на пред. моделях, показавших наилучшие результаты, и проверить, что ошибка данной модели будет минимальной."
   ]
  },
  {
   "cell_type": "markdown",
   "metadata": {},
   "source": [
    "Курс нефти URALS был исключён из анализа, т.к. он основывается на котировках BRENT с коэффициентом 0.89."
   ]
  },
  {
   "cell_type": "code",
   "execution_count": 11,
   "metadata": {},
   "outputs": [],
   "source": [
    "import numpy as np\n",
    "import pandas as pd\n",
    "from scipy import stats\n",
    "import itertools\n",
    "from matplotlib import pyplot as plt\n",
    "import warnings\n",
    "warnings.filterwarnings('ignore')"
   ]
  },
  {
   "cell_type": "code",
   "execution_count": 12,
   "metadata": {},
   "outputs": [],
   "source": [
    "def mean_approximation_error(y_real, y_pred):\n",
    "    return np.abs((y_real - y_pred) / y_real).mean()"
   ]
  },
  {
   "cell_type": "code",
   "execution_count": 13,
   "metadata": {},
   "outputs": [],
   "source": [
    "# загрузка данных котировок\n",
    "data_Si = pd.read_csv('SPFB.Si_201201_211213.csv', encoding='cp1251', delimiter=';', parse_dates=['<DATE>'])\n",
    "data_BR = pd.read_csv('SPFB.BR_201201_211213.csv', encoding='cp1251', delimiter=';', parse_dates=['<DATE>'])\n",
    "\n",
    "quot_Si = data_Si['<CLOSE>']\n",
    "quot_BR = data_BR['<CLOSE>']"
   ]
  },
  {
   "cell_type": "code",
   "execution_count": 14,
   "metadata": {},
   "outputs": [
    {
     "data": {
      "text/plain": [
       "(array([[ 1.91522051e+06, -7.04794919e+03],\n",
       "        [-7.04794919e+03,  8.57830560e+01]]),\n",
       " array([[ 1.        , -0.54986062],\n",
       "        [-0.54986062,  1.        ]]))"
      ]
     },
     "execution_count": 14,
     "metadata": {},
     "output_type": "execute_result"
    }
   ],
   "source": [
    "# анализ взаимосвязи между курсами доллара и нефти\n",
    "\n",
    "(np.cov(quot_Si, quot_BR), np.corrcoef(quot_Si, quot_BR))"
   ]
  },
  {
   "cell_type": "code",
   "execution_count": 15,
   "metadata": {},
   "outputs": [
    {
     "data": {
      "text/plain": [
       "SpearmanrResult(correlation=-0.5927875223946102, pvalue=0.0)"
      ]
     },
     "execution_count": 15,
     "metadata": {},
     "output_type": "execute_result"
    }
   ],
   "source": [
    "stats.spearmanr(quot_Si, quot_BR)"
   ]
  },
  {
   "cell_type": "code",
   "execution_count": 16,
   "metadata": {},
   "outputs": [
    {
     "data": {
      "text/plain": [
       "KendalltauResult(correlation=-0.42655280099767545, pvalue=0.0)"
      ]
     },
     "execution_count": 16,
     "metadata": {},
     "output_type": "execute_result"
    }
   ],
   "source": [
    "stats.kendalltau(quot_Si, quot_BR)"
   ]
  },
  {
   "cell_type": "markdown",
   "metadata": {},
   "source": [
    "Учитывая, что значения коэффицента корреляции Пирсона/Спирмена/Кенделла находятся в районе -0.5, можно заключить, что связь между двумя курсами противоположная и слабая, близко к средней. Из этого можно сделать, что добавление курса нефти для прогнозирования курса рубля к доллару не приведёт к улучшению результатов моделирования."
   ]
  },
  {
   "cell_type": "code",
   "execution_count": 17,
   "metadata": {},
   "outputs": [],
   "source": [
    "# инициализация параметров для линейной регрессии\n",
    "factors = 16\n",
    "future = 8"
   ]
  },
  {
   "cell_type": "markdown",
   "metadata": {},
   "source": [
    "В качестве факторов, влияющих на будущие значения курса, будем брать предыдущие значения."
   ]
  },
  {
   "cell_type": "code",
   "execution_count": 18,
   "metadata": {},
   "outputs": [],
   "source": [
    "# подготовка данных для линейной регрессии\n",
    "start = factors\n",
    "end = len(quot_Si) - future\n",
    "rawDF = []\n",
    "rawDF_ext = []\n",
    "for i in range(start, end):\n",
    "    rawDF.append(list(quot_Si[(i - factors):(i + future)]))\n",
    "    rawDF_ext.append(list(itertools.chain(list(quot_BR[(i - factors):i]), list(quot_Si[(i - factors):(i + future)]))))\n",
    "    #rawDF_ext.append(list(itertools.chain(list(quot_BR[(i - factors):i]*1000), list(quot_Si[i:(i + future)]))))"
   ]
  },
  {
   "cell_type": "code",
   "execution_count": 19,
   "metadata": {},
   "outputs": [],
   "source": [
    "# формируем данные для посторения моделей\n",
    "\n",
    "factorCols = [f\"factor_{i}\" for i in range(factors)]\n",
    "factorCols_ext = [f\"factor_{i}\" for i in range(2*factors)]\n",
    "futureCols = [f\"y_{i}\" for i in range(future)]\n",
    "\n",
    "DF = pd.DataFrame(rawDF, columns=(factorCols + futureCols))\n",
    "DF_ext = pd.DataFrame(rawDF_ext, columns=(factorCols_ext + futureCols))\n",
    "\n",
    "x = DF[factorCols][:-1].values\n",
    "x_ext = DF_ext[factorCols_ext][:-1].values\n",
    "y = DF[futureCols][:-1].values\n",
    "\n",
    "# формируем данные для проверки моделирования (тестовые значения - последняя строка в датафрейме)\n",
    "\n",
    "x_exam = DF[factorCols][-1:].values\n",
    "x_exam_ext = DF_ext[factorCols_ext][-1:].values\n",
    "y_exam = DF[futureCols][-1:].values[0]"
   ]
  },
  {
   "cell_type": "code",
   "execution_count": 20,
   "metadata": {},
   "outputs": [
    {
     "data": {
      "text/plain": [
       "(array([74968., 74980., 74970., 74974., 74958., 74919., 74884., 74819.]),\n",
       " array([75024.66676867, 75044.06327452, 75047.65293038, 74995.20490001,\n",
       "        74964.04540678, 74972.16094528, 74951.25762935, 74976.09680171]),\n",
       " array([75016.88579477, 75055.30816884, 75064.23899322, 75006.04184868,\n",
       "        74974.5666619 , 74987.3070235 , 74980.92844399, 74996.33230584]))"
      ]
     },
     "execution_count": 20,
     "metadata": {},
     "output_type": "execute_result"
    }
   ],
   "source": [
    "# модель LinearRegression\n",
    "\n",
    "from sklearn.linear_model import LinearRegression\n",
    "\n",
    "LReg = LinearRegression()\n",
    "LReg.fit(x, y) # обучение\n",
    "y_pred = LReg.predict(x_exam)[0]\n",
    "LReg.fit(x_ext, y) # обучение\n",
    "y_pred_ext = LReg.predict(x_exam_ext)[0]\n",
    "\n",
    "(y_exam, y_pred, y_pred_ext)"
   ]
  },
  {
   "cell_type": "code",
   "execution_count": 21,
   "metadata": {},
   "outputs": [
    {
     "data": {
      "text/plain": [
       "(0.37550673745343893, 0.24627872915104504)"
      ]
     },
     "execution_count": 21,
     "metadata": {},
     "output_type": "execute_result"
    }
   ],
   "source": [
    "# Коэффициент детерминации\n",
    "\n",
    "R = (np.corrcoef(y_exam, y_pred) ** 2)[1,0]\n",
    "R_ext = (np.corrcoef(y_exam, y_pred_ext) ** 2)[1,0]\n",
    "(R, R_ext)"
   ]
  },
  {
   "cell_type": "code",
   "execution_count": 22,
   "metadata": {},
   "outputs": [
    {
     "data": {
      "text/plain": [
       "(0.0008396224229108506, 0.0010172688281102295)"
      ]
     },
     "execution_count": 22,
     "metadata": {},
     "output_type": "execute_result"
    }
   ],
   "source": [
    "# средняя ошибка аппроксимации\n",
    "\n",
    "mae = mean_approximation_error(y_exam, y_pred)\n",
    "mae_ext = mean_approximation_error(y_exam, y_pred_ext)\n",
    "\n",
    "(mae, mae_ext)"
   ]
  },
  {
   "cell_type": "code",
   "execution_count": 23,
   "metadata": {},
   "outputs": [
    {
     "data": {
      "text/plain": [
       "(1.645944351611502, 1.446390940016945)"
      ]
     },
     "execution_count": 23,
     "metadata": {},
     "output_type": "execute_result"
    }
   ],
   "source": [
    "# Значения кванителей для оценки статистической значимости регрессии по F-критерию Фишера\n",
    "\n",
    "k1 = factors\n",
    "k1_ext = 2*k1\n",
    "k2 = x.shape[0] - k1 - 1\n",
    "k2_ext = x_ext.shape[0] - k1_ext - 1\n",
    "alpha = 0.05\n",
    "\n",
    "F_crit = stats.f.ppf(1 - alpha, k1, k2)\n",
    "F_crit_ext = stats.f.ppf(1 - alpha, k1_ext, k2_ext)\n",
    "(F_crit, F_crit_ext)"
   ]
  },
  {
   "cell_type": "code",
   "execution_count": 24,
   "metadata": {},
   "outputs": [
    {
     "data": {
      "text/plain": [
       "(156.29997699058566, 84.93468293205265)"
      ]
     },
     "execution_count": 24,
     "metadata": {},
     "output_type": "execute_result"
    }
   ],
   "source": [
    "T = (R / (1 - R)) * (k2 / k1)\n",
    "T_ext = (R_ext / (1 - R_ext)) * (k2 / k1)\n",
    "(T, T_ext)"
   ]
  },
  {
   "cell_type": "code",
   "execution_count": 25,
   "metadata": {},
   "outputs": [
    {
     "data": {
      "text/plain": [
       "[<matplotlib.lines.Line2D at 0x21b9e538048>]"
      ]
     },
     "execution_count": 25,
     "metadata": {},
     "output_type": "execute_result"
    },
    {
     "data": {
      "image/png": "[encoded data removed]",
      "text/plain": [
       "<Figure size 432x288 with 1 Axes>"
      ]
     },
     "metadata": {
      "needs_background": "light"
     },
     "output_type": "display_data"
    }
   ],
   "source": [
    "n = future\n",
    "ox = range(n)\n",
    "plt.plot(ox, y_exam, 'r')\n",
    "plt.plot(ox, y_pred, 'b.')\n",
    "plt.plot(ox, y_pred_ext, 'g--')"
   ]
  },
  {
   "cell_type": "code",
   "execution_count": 26,
   "metadata": {},
   "outputs": [
    {
     "data": {
      "text/plain": [
       "(62.89358208871636, 76.20115509247444)"
      ]
     },
     "execution_count": 26,
     "metadata": {},
     "output_type": "execute_result"
    }
   ],
   "source": [
    "from sklearn.metrics import mean_absolute_error\n",
    "\n",
    "# средняя абсолютная ошибка\n",
    "(mean_absolute_error(np.array(list(y_exam)), np.array(y_pred)), \n",
    " mean_absolute_error(np.array(list(y_exam)), np.array(y_pred_ext)))"
   ]
  },
  {
   "cell_type": "code",
   "execution_count": 27,
   "metadata": {},
   "outputs": [
    {
     "data": {
      "text/plain": [
       "(array([74968., 74980., 74970., 74974., 74958., 74919., 74884., 74819.]),\n",
       " array([74085.62604653, 74078.95831851, 74341.96560098, 74259.20936609,\n",
       "        73937.95734463, 73846.85057887, 74213.91008427, 74050.61939862]),\n",
       " array([73919.13992744, 73850.48195473, 73389.44693077, 74029.32222079,\n",
       "        73558.7706953 , 74483.2939198 , 73794.49856778, 73857.96427572]))"
      ]
     },
     "execution_count": 27,
     "metadata": {},
     "output_type": "execute_result"
    }
   ],
   "source": [
    "# модель MLP Regressor - neural net\n",
    "\n",
    "from sklearn.neural_network import MLPRegressor\n",
    "\n",
    "MLP = MLPRegressor(max_iter=5000, hidden_layer_sizes=20, beta_1=0.9, beta_2=0.95, random_state=42)\n",
    "MLP.fit(x, y)\n",
    "y_pred_NN = MLP.predict(x_exam)[0]\n",
    "MLP.fit(x_ext, y)\n",
    "y_pred_ext_NN = MLP.predict(x_exam_ext)[0]\n",
    "\n",
    "(y_exam, y_pred_NN, y_pred_ext_NN)"
   ]
  },
  {
   "cell_type": "code",
   "execution_count": 28,
   "metadata": {},
   "outputs": [
    {
     "data": {
      "text/plain": [
       "(0.04229416839059104, 0.028052416263721968)"
      ]
     },
     "execution_count": 28,
     "metadata": {},
     "output_type": "execute_result"
    }
   ],
   "source": [
    "# Коэффициент детерминации\n",
    "\n",
    "R = (np.corrcoef(y_exam, y_pred_NN) ** 2)[1,0]\n",
    "R_ext = (np.corrcoef(y_exam, y_pred_ext_NN) ** 2)[1,0]\n",
    "(R, R_ext)"
   ]
  },
  {
   "cell_type": "code",
   "execution_count": 29,
   "metadata": {},
   "outputs": [
    {
     "data": {
      "text/plain": [
       "(11.479349956086505, 7.502333535848122)"
      ]
     },
     "execution_count": 29,
     "metadata": {},
     "output_type": "execute_result"
    }
   ],
   "source": [
    "T = (R / (1 - R)) * (k2 / k1)\n",
    "T_ext = (R_ext / (1 - R_ext)) * (k2 / k1)\n",
    "(T, T_ext)"
   ]
  },
  {
   "cell_type": "code",
   "execution_count": 30,
   "metadata": {},
   "outputs": [
    {
     "data": {
      "text/plain": [
       "(0.011104411684819435, 0.014326763780919682)"
      ]
     },
     "execution_count": 30,
     "metadata": {},
     "output_type": "execute_result"
    }
   ],
   "source": [
    "mae_NN = mean_approximation_error(y_exam, y_pred_NN)\n",
    "mae_ext_NN = mean_approximation_error(y_exam, y_pred_ext_NN)\n",
    "\n",
    "(mae_NN, mae_ext_NN)"
   ]
  },
  {
   "cell_type": "code",
   "execution_count": 31,
   "metadata": {},
   "outputs": [
    {
     "data": {
      "text/plain": [
       "[<matplotlib.lines.Line2D at 0x21ba1283128>]"
      ]
     },
     "execution_count": 31,
     "metadata": {},
     "output_type": "execute_result"
    },
    {
     "data": {
      "image/png": "[encoded data removed]",
      "text/plain": [
       "<Figure size 432x288 with 1 Axes>"
      ]
     },
     "metadata": {
      "needs_background": "light"
     },
     "output_type": "display_data"
    }
   ],
   "source": [
    "plt.plot(ox, y_exam, 'r')\n",
    "plt.plot(ox, y_pred_NN, 'b.')\n",
    "plt.plot(ox, y_pred_ext_NN, 'g--')"
   ]
  },
  {
   "cell_type": "code",
   "execution_count": 32,
   "metadata": {},
   "outputs": [
    {
     "data": {
      "text/plain": [
       "(832.1129076881589, 1073.635188460712)"
      ]
     },
     "execution_count": 32,
     "metadata": {},
     "output_type": "execute_result"
    }
   ],
   "source": [
    "(mean_absolute_error(np.array(list(y_exam)), np.array(y_pred_NN)), \n",
    " mean_absolute_error(np.array(list(y_exam)), np.array(y_pred_ext_NN)))"
   ]
  },
  {
   "cell_type": "code",
   "execution_count": 33,
   "metadata": {},
   "outputs": [
    {
     "data": {
      "text/plain": [
       "(array([74968., 74980., 74970., 74974., 74958., 74919., 74884., 74819.]),\n",
       " array([75047.68676454, 75046.84382029, 75043.78580212, 74998.591792  ,\n",
       "        74988.20439163, 74975.11918538, 74968.59736548, 74978.58581556]),\n",
       " array([75051.12689509, 75045.70930232, 75030.53425598, 75006.31064036,\n",
       "        74998.8990894 , 74991.90730711, 74965.88500407, 74975.03503372]))"
      ]
     },
     "execution_count": 33,
     "metadata": {},
     "output_type": "execute_result"
    }
   ],
   "source": [
    "# модель Lars\n",
    "\n",
    "from sklearn.linear_model import Lars\n",
    " \n",
    "Regression1 = Lars(n_nonzero_coefs=10)\n",
    "Regression1.fit(x, y)\n",
    "y_pred_Lars = Regression1.predict(x_exam)[0]\n",
    "Regression1.fit(x_ext, y)\n",
    "y_pred_ext_Lars = Regression1.predict(x_exam_ext)[0]\n",
    "\n",
    "(y_exam, y_pred_Lars, y_pred_ext_Lars)"
   ]
  },
  {
   "cell_type": "code",
   "execution_count": 34,
   "metadata": {},
   "outputs": [
    {
     "data": {
      "text/plain": [
       "(0.4704666595635296, 0.6130064768069602)"
      ]
     },
     "execution_count": 34,
     "metadata": {},
     "output_type": "execute_result"
    }
   ],
   "source": [
    "# Коэффициент детерминации\n",
    "\n",
    "R = (np.corrcoef(y_exam, y_pred_Lars) ** 2)[1,0]\n",
    "R_ext = (np.corrcoef(y_exam, y_pred_ext_Lars) ** 2)[1,0]\n",
    "(R, R_ext)"
   ]
  },
  {
   "cell_type": "code",
   "execution_count": 35,
   "metadata": {},
   "outputs": [
    {
     "data": {
      "text/plain": [
       "(230.9428283014159, 411.74686788110836)"
      ]
     },
     "execution_count": 35,
     "metadata": {},
     "output_type": "execute_result"
    }
   ],
   "source": [
    "T = (R / (1 - R)) * (k2 / k1)\n",
    "T_ext = (R_ext / (1 - R_ext)) * (k2 / k1)\n",
    "(T, T_ext)"
   ]
  },
  {
   "cell_type": "code",
   "execution_count": 36,
   "metadata": {},
   "outputs": [
    {
     "data": {
      "text/plain": [
       "(0.0009601659091307451, 0.0009901700466172195)"
      ]
     },
     "execution_count": 36,
     "metadata": {},
     "output_type": "execute_result"
    }
   ],
   "source": [
    "mae_Lars = mean_approximation_error(y_exam, y_pred_Lars)\n",
    "mae_ext_lars = mean_approximation_error(y_exam, y_pred_ext_Lars)\n",
    "\n",
    "(mae_Lars, mae_ext_lars)"
   ]
  },
  {
   "cell_type": "code",
   "execution_count": 37,
   "metadata": {},
   "outputs": [
    {
     "data": {
      "text/plain": [
       "[<matplotlib.lines.Line2D at 0x21ba1321198>]"
      ]
     },
     "execution_count": 37,
     "metadata": {},
     "output_type": "execute_result"
    },
    {
     "data": {
      "image/png": "[encoded data removed]",
      "text/plain": [
       "<Figure size 432x288 with 1 Axes>"
      ]
     },
     "metadata": {
      "needs_background": "light"
     },
     "output_type": "display_data"
    }
   ],
   "source": [
    "plt.plot(ox, y_exam, 'r')\n",
    "plt.plot(ox, y_pred_Lars, 'b.')\n",
    "plt.plot(ox, y_pred_ext_Lars, 'g--')"
   ]
  },
  {
   "cell_type": "code",
   "execution_count": 38,
   "metadata": {},
   "outputs": [
    {
     "data": {
      "text/plain": [
       "(71.926867124399, 74.17594100522365)"
      ]
     },
     "execution_count": 38,
     "metadata": {},
     "output_type": "execute_result"
    }
   ],
   "source": [
    "(mean_absolute_error(np.array(list(y_exam)), np.array(y_pred_Lars)), \n",
    " mean_absolute_error(np.array(list(y_exam)), np.array(y_pred_ext_Lars)))"
   ]
  },
  {
   "cell_type": "code",
   "execution_count": 39,
   "metadata": {},
   "outputs": [
    {
     "data": {
      "text/plain": [
       "(array([74968., 74980., 74970., 74974., 74958., 74919., 74884., 74819.]),\n",
       " array([75210.17115805, 75048.18468612, 75052.06002782, 74999.24319742,\n",
       "        74968.09334919, 74976.37694293, 74955.34384661, 74979.85286782]),\n",
       " array([75187.5872745 , 75069.08353156, 75082.18150496, 75031.56152179,\n",
       "        75001.15853621, 75014.68965167, 75005.91925654, 75031.26847186]))"
      ]
     },
     "execution_count": 39,
     "metadata": {},
     "output_type": "execute_result"
    }
   ],
   "source": [
    "# модель Lasso\n",
    "\n",
    "from sklearn.linear_model import Lasso\n",
    " \n",
    "Regression2 = Lasso(alpha=0.001, max_iter=1000, tol=0.005)\n",
    "Regression2.fit(x, y)\n",
    "y_pred_Lasso = Regression2.predict(x_exam)[0]\n",
    "Regression2.fit(x_ext, y)\n",
    "y_pred_ext_Lasso = Regression2.predict(x_exam_ext)[0]\n",
    "\n",
    "(y_exam, y_pred_Lasso, y_pred_ext_Lasso)"
   ]
  },
  {
   "cell_type": "code",
   "execution_count": 40,
   "metadata": {},
   "outputs": [
    {
     "data": {
      "text/plain": [
       "(0.21304211022346367, 0.15604713409751356)"
      ]
     },
     "execution_count": 40,
     "metadata": {},
     "output_type": "execute_result"
    }
   ],
   "source": [
    "# Коэффициент детерминации\n",
    "\n",
    "R = (np.corrcoef(y_exam, y_pred_Lasso) ** 2)[1,0]\n",
    "R_ext = (np.corrcoef(y_exam, y_pred_ext_Lasso) ** 2)[1,0]\n",
    "(R, R_ext)"
   ]
  },
  {
   "cell_type": "code",
   "execution_count": 41,
   "metadata": {},
   "outputs": [
    {
     "data": {
      "text/plain": [
       "(70.36924624001998, 48.0625205011854)"
      ]
     },
     "execution_count": 41,
     "metadata": {},
     "output_type": "execute_result"
    }
   ],
   "source": [
    "T = (R / (1 - R)) * (k2 / k1)\n",
    "T_ext = (R_ext / (1 - R_ext)) * (k2 / k1)\n",
    "(T, T_ext)"
   ]
  },
  {
   "cell_type": "code",
   "execution_count": 42,
   "metadata": {},
   "outputs": [
    {
     "data": {
      "text/plain": [
       "(0.0011967609355448554, 0.0015874368450665536)"
      ]
     },
     "execution_count": 42,
     "metadata": {},
     "output_type": "execute_result"
    }
   ],
   "source": [
    "mae_Lasso = mean_approximation_error(y_exam, y_pred_Lasso)\n",
    "mae_ext_Lasso = mean_approximation_error(y_exam, y_pred_ext_Lasso)\n",
    "\n",
    "(mae_Lasso, mae_ext_Lasso)"
   ]
  },
  {
   "cell_type": "code",
   "execution_count": 43,
   "metadata": {},
   "outputs": [
    {
     "data": {
      "text/plain": [
       "[<matplotlib.lines.Line2D at 0x21ba139d550>]"
      ]
     },
     "execution_count": 43,
     "metadata": {},
     "output_type": "execute_result"
    },
    {
     "data": {
      "image/png": "[encoded data removed]",
      "text/plain": [
       "<Figure size 432x288 with 1 Axes>"
      ]
     },
     "metadata": {
      "needs_background": "light"
     },
     "output_type": "display_data"
    }
   ],
   "source": [
    "plt.plot(ox, y_exam, 'r')\n",
    "plt.plot(ox, y_pred_Lasso, 'b.')\n",
    "plt.plot(ox, y_pred_ext_Lasso, 'g--')"
   ]
  },
  {
   "cell_type": "code",
   "execution_count": 44,
   "metadata": {},
   "outputs": [
    {
     "data": {
      "text/plain": [
       "(89.66575949552134, 118.93121863764281)"
      ]
     },
     "execution_count": 44,
     "metadata": {},
     "output_type": "execute_result"
    }
   ],
   "source": [
    "(mean_absolute_error(np.array(list(y_exam)), np.array(y_pred_Lasso)), \n",
    " mean_absolute_error(np.array(list(y_exam)), np.array(y_pred_ext_Lasso)))"
   ]
  },
  {
   "cell_type": "code",
   "execution_count": 45,
   "metadata": {},
   "outputs": [
    {
     "data": {
      "text/plain": [
       "(array([74968., 74980., 74970., 74974., 74958., 74919., 74884., 74819.]),\n",
       " array([74926. , 74921. , 75015. , 74825.5, 74891. , 74863. , 74945.5,\n",
       "        74873.5]),\n",
       " array([74926. , 74921. , 75015. , 74825.5, 74891. , 74863. , 74945.5,\n",
       "        74873.5]))"
      ]
     },
     "execution_count": 45,
     "metadata": {},
     "output_type": "execute_result"
    }
   ],
   "source": [
    "# модель Nearst Neighbors Regressor\n",
    "\n",
    "from sklearn.neighbors import KNeighborsRegressor\n",
    "\n",
    "KNR = KNeighborsRegressor(n_neighbors=2)\n",
    "KNR.fit(x, y)\n",
    "y_pred_NNR = KNR.predict(x_exam)[0]\n",
    "KNR.fit(x_ext, y)\n",
    "y_pred_ext_NNR = KNR.predict(x_exam_ext)[0]\n",
    "\n",
    "(y_exam, y_pred_NNR, y_pred_ext_NNR)"
   ]
  },
  {
   "cell_type": "code",
   "execution_count": 46,
   "metadata": {},
   "outputs": [
    {
     "data": {
      "text/plain": [
       "(0.03163995609428061, 0.03163995609428061)"
      ]
     },
     "execution_count": 46,
     "metadata": {},
     "output_type": "execute_result"
    }
   ],
   "source": [
    "# Коэффициент детерминации\n",
    "\n",
    "R = (np.corrcoef(y_exam, y_pred_NNR) ** 2)[1,0]\n",
    "R_ext = (np.corrcoef(y_exam, y_pred_ext_NNR) ** 2)[1,0]\n",
    "(R, R_ext)"
   ]
  },
  {
   "cell_type": "code",
   "execution_count": 47,
   "metadata": {},
   "outputs": [
    {
     "data": {
      "text/plain": [
       "(8.493133456937432, 8.493133456937432)"
      ]
     },
     "execution_count": 47,
     "metadata": {},
     "output_type": "execute_result"
    }
   ],
   "source": [
    "T = (R / (1 - R)) * (k2 / k1)\n",
    "T_ext = (R_ext / (1 - R_ext)) * (k2 / k1)\n",
    "(T, T_ext)"
   ]
  },
  {
   "cell_type": "code",
   "execution_count": 48,
   "metadata": {},
   "outputs": [
    {
     "data": {
      "text/plain": [
       "(0.0008898806147427909, 0.0008898806147427909)"
      ]
     },
     "execution_count": 48,
     "metadata": {},
     "output_type": "execute_result"
    }
   ],
   "source": [
    "mae_NNR = mean_approximation_error(y_exam, y_pred_NNR)\n",
    "mae_ext_NNR = mean_approximation_error(y_exam, y_pred_ext_NNR)\n",
    "\n",
    "(mae_NNR, mae_ext_NNR)"
   ]
  },
  {
   "cell_type": "code",
   "execution_count": 49,
   "metadata": {},
   "outputs": [
    {
     "data": {
      "text/plain": [
       "[<matplotlib.lines.Line2D at 0x21ba1602208>]"
      ]
     },
     "execution_count": 49,
     "metadata": {},
     "output_type": "execute_result"
    },
    {
     "data": {
      "image/png": "[encoded data removed]",
      "text/plain": [
       "<Figure size 432x288 with 1 Axes>"
      ]
     },
     "metadata": {
      "needs_background": "light"
     },
     "output_type": "display_data"
    }
   ],
   "source": [
    "plt.plot(ox, y_exam, 'r')\n",
    "plt.plot(ox, y_pred_NNR, 'b.')\n",
    "plt.plot(ox, y_pred_ext_NNR, 'g--')"
   ]
  },
  {
   "cell_type": "code",
   "execution_count": 50,
   "metadata": {},
   "outputs": [
    {
     "data": {
      "text/plain": [
       "(66.6875, 66.6875)"
      ]
     },
     "execution_count": 50,
     "metadata": {},
     "output_type": "execute_result"
    }
   ],
   "source": [
    "(mean_absolute_error(np.array(list(y_exam)), np.array(y_pred_NNR)), \n",
    " mean_absolute_error(np.array(list(y_exam)), np.array(y_pred_ext_NNR)))"
   ]
  },
  {
   "cell_type": "code",
   "execution_count": 51,
   "metadata": {},
   "outputs": [
    {
     "data": {
      "text/plain": [
       "(array([74968., 74980., 74970., 74974., 74958., 74919., 74884., 74819.]),\n",
       " array([75064.88511348, 75017.84139588, 75040.57804334, 74958.42763906,\n",
       "        74954.53522916, 74949.19532665, 74955.48146625, 74954.3766297 ]))"
      ]
     },
     "execution_count": 51,
     "metadata": {},
     "output_type": "execute_result"
    }
   ],
   "source": [
    "# формируем прогнозный массив, взвешенный по наилучшим результатам\n",
    "# (исключаем модель нейронной сети и не берём результаты, включающие курс нефти)\n",
    "\n",
    "mae_sum = mae + mae_Lars + mae_Lasso + mae_NNR\n",
    "y_pred_weighed = (mae/mae_sum)*y_pred + (mae_Lars/mae_sum)*y_pred_Lars + (mae_Lasso/mae_sum)*y_pred_Lasso + (mae_NNR/mae_sum)*y_pred_NNR\n",
    "\n",
    "(y_exam, y_pred_weighed)"
   ]
  },
  {
   "cell_type": "code",
   "execution_count": 52,
   "metadata": {},
   "outputs": [
    {
     "data": {
      "text/plain": [
       "(0.0007699216917263203, 0.0008396224229108506)"
      ]
     },
     "execution_count": 52,
     "metadata": {},
     "output_type": "execute_result"
    }
   ],
   "source": [
    "(mean_approximation_error(y_exam, y_pred_weighed), min(mae, mae_Lars, mae_Lasso, mae_NNR))"
   ]
  },
  {
   "cell_type": "markdown",
   "metadata": {},
   "source": [
    "Из результата видно, что ошибка общего прогноза минимальна."
   ]
  },
  {
   "cell_type": "code",
   "execution_count": 53,
   "metadata": {},
   "outputs": [
    {
     "data": {
      "text/plain": [
       "[<matplotlib.lines.Line2D at 0x21ba165c2e8>]"
      ]
     },
     "execution_count": 53,
     "metadata": {},
     "output_type": "execute_result"
    },
    {
     "data": {
      "image/png": "[encoded data removed]",
      "text/plain": [
       "<Figure size 432x288 with 1 Axes>"
      ]
     },
     "metadata": {
      "needs_background": "light"
     },
     "output_type": "display_data"
    }
   ],
   "source": [
    "plt.plot(ox, y_exam, 'r')\n",
    "plt.plot(ox, y_pred_weighed, 'b--')"
   ]
  },
  {
   "cell_type": "code",
   "execution_count": 54,
   "metadata": {},
   "outputs": [
    {
     "data": {
      "text/plain": [
       "57.67438838463568"
      ]
     },
     "execution_count": 54,
     "metadata": {},
     "output_type": "execute_result"
    }
   ],
   "source": [
    "mean_absolute_error(np.array(list(y_exam)), np.array(y_pred_weighed))"
   ]
  },
  {
   "cell_type": "code",
   "execution_count": null,
   "metadata": {},
   "outputs": [],
   "source": []
  }
 ],
 "metadata": {
  "kernelspec": {
   "display_name": "Python 3",
   "language": "python",
   "name": "python3"
  },
  "language_info": {
   "codemirror_mode": {
    "name": "ipython",
    "version": 3
   },
   "file_extension": ".py",
   "mimetype": "text/x-python",
   "name": "python",
   "nbconvert_exporter": "python",
   "pygments_lexer": "ipython3",
   "version": "3.7.3"
  }
 },
 "nbformat": 4,
 "nbformat_minor": 2
}
