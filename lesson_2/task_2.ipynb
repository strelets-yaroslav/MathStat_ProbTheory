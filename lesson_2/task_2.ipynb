{
 "cells": [
  {
   "cell_type": "markdown",
   "metadata": {},
   "source": [
    "**Задача 2**\n",
    "\n",
    "Вероятность попадания в цель при одном выстреле равна 0.01. Какова вероятность того, что число попаданий при 200 выстрелах будет не менее 5 и не более 10?"
   ]
  },
  {
   "cell_type": "markdown",
   "metadata": {},
   "source": [
    "Учитывая, что вероятность наступления события очень мала, а число испытаний большое, то для нахождения искомой вероятности будем использовать формулу Пуассона, где $a = np = 200*0.01 = 2$. Тогда\n",
    "\n",
    "$$X = (5, 6, 7, 8, 9, 10)$$\n",
    "\n",
    "$$P(X=5) = \\frac{2^5}{5!*e^2}$$\n",
    "\n",
    "$$P(X=6) = \\frac{2^6}{6!*e^2}$$\n",
    "\n",
    "$$P(X=7) = \\frac{2^7}{7!*e^2}$$\n",
    "\n",
    "$$P(X=8) = \\frac{2^8}{8!*e^2}$$\n",
    "\n",
    "$$P(X=9) = \\frac{2^9}{9!*e^2}$$\n",
    "\n",
    "$$P(X=10) = \\frac{2^{10}}{10!*e^2}$$\n",
    "\n",
    "Тогда $P(5\\leq X \\leq 10) = P(X=5) + P(X=6) + P(X=7) + P(X=8) + P(X=9) + P(X=10)$"
   ]
  },
  {
   "cell_type": "code",
   "execution_count": 4,
   "metadata": {},
   "outputs": [
    {
     "data": {
      "text/plain": [
       "0.052644709119342686"
      ]
     },
     "execution_count": 4,
     "metadata": {},
     "output_type": "execute_result"
    }
   ],
   "source": [
    "import math\n",
    "\n",
    "\n",
    "def puasson(a, k):\n",
    "    return a**k / (math.factorial(k)*math.e**a)\n",
    "\n",
    "\n",
    "sum([puasson(2, i) for i in range(5, 11)])"
   ]
  },
  {
   "cell_type": "code",
   "execution_count": null,
   "metadata": {},
   "outputs": [],
   "source": []
  }
 ],
 "metadata": {
  "kernelspec": {
   "display_name": "Python 3",
   "language": "python",
   "name": "python3"
  },
  "language_info": {
   "codemirror_mode": {
    "name": "ipython",
    "version": 3
   },
   "file_extension": ".py",
   "mimetype": "text/x-python",
   "name": "python",
   "nbconvert_exporter": "python",
   "pygments_lexer": "ipython3",
   "version": "3.7.3"
  }
 },
 "nbformat": 4,
 "nbformat_minor": 2
}
