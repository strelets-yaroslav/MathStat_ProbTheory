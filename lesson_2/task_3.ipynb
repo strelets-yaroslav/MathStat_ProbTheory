{
 "cells": [
  {
   "cell_type": "markdown",
   "metadata": {},
   "source": [
    "**Задача 3**\n",
    "\n",
    "В условиях предыдущей задачи сколько выстрелов нужно сделать чтобы быть уверенным с вероятностью 0.9, что хотя бы 10 раз будет совершено попадание?"
   ]
  },
  {
   "cell_type": "markdown",
   "metadata": {},
   "source": [
    "Вероятность искомого события (число попаданий $\\geq 10$) можно представить, как $1 - P(<10)$, т.е. $P(<10) = 1 - P(\\geq 10)$, а также\n",
    "$$P(<10) = \\sum_{i=0}^{9} \\frac{a^i}{i!\\cdot e^a}$$\n",
    "\n",
    "Тогда для определения $a$, а через него $n = \\frac{a}{p}$ необходимо решить уравнение $\\sum_{i=0}^{9} \\frac{a^i}{i!\\cdot e^a} - 0.1 = 0$."
   ]
  },
  {
   "cell_type": "code",
   "execution_count": 1,
   "metadata": {},
   "outputs": [],
   "source": [
    "from scipy.optimize import fsolve\n",
    "from math import factorial as f\n",
    "from math import e\n",
    "import warnings\n",
    "warnings.filterwarnings('ignore')\n",
    "\n",
    "\n",
    "def puasson(a, k):\n",
    "    return a**k / (f(k) * e**a)"
   ]
  },
  {
   "cell_type": "code",
   "execution_count": 10,
   "metadata": {},
   "outputs": [
    {
     "name": "stdout",
     "output_type": "stream",
     "text": [
      "число испытаний > 1421, a = 14.21\n"
     ]
    }
   ],
   "source": [
    "P_to_10 = 1 - 0.9\n",
    "p = 0.01\n",
    "\n",
    "\n",
    "def equations(a):\n",
    "    return (a**9/f(9) + a**8/f(8) + a**7/f(7) + a**6/f(6) + a**5/120 + a**4/24 + a**3/6 + a**2/2 + a + 1) / e**a - P_to_10\n",
    "\n",
    "\n",
    "solv = set()\n",
    "for x in range (1, 50, 5):\n",
    "    s, info, ier, mesg =  fsolve(equations, x, full_output=True)\n",
    "    if ier == 1:\n",
    "        solv.add(int(s / p + 1))\n",
    "\n",
    "n = min(solv)\n",
    "a = n*p\n",
    "print(f'число испытаний > {n}, a = {a}')"
   ]
  },
  {
   "cell_type": "code",
   "execution_count": 11,
   "metadata": {},
   "outputs": [
    {
     "data": {
      "text/plain": [
       "0.9001760722984113"
      ]
     },
     "execution_count": 11,
     "metadata": {},
     "output_type": "execute_result"
    }
   ],
   "source": [
    "1 - sum([puasson(a, i) for i in range(0, 10)])"
   ]
  },
  {
   "cell_type": "code",
   "execution_count": null,
   "metadata": {},
   "outputs": [],
   "source": []
  }
 ],
 "metadata": {
  "kernelspec": {
   "display_name": "Python 3",
   "language": "python",
   "name": "python3"
  },
  "language_info": {
   "codemirror_mode": {
    "name": "ipython",
    "version": 3
   },
   "file_extension": ".py",
   "mimetype": "text/x-python",
   "name": "python",
   "nbconvert_exporter": "python",
   "pygments_lexer": "ipython3",
   "version": "3.7.3"
  }
 },
 "nbformat": 4,
 "nbformat_minor": 2
}
