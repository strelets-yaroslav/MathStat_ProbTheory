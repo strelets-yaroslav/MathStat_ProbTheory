{
 "cells": [
  {
   "cell_type": "markdown",
   "metadata": {},
   "source": [
    "**Задача 1**\n",
    "\n",
    "Контрольная работа состоит из пяти вопросов. На каждый вопрос приведено четыре варианта ответа, один из которых правильный. Составьте закон распределения числа правильных ответов при простом угадывании. Найдите M(X), D(X)."
   ]
  },
  {
   "cell_type": "markdown",
   "metadata": {},
   "source": [
    "Событие А - правильный ответ, при простом угадывании имеет вероятность наступления равную $\\frac{1}{4}$.\n",
    "Тогда Х - случайная величина, равная количеству верных ответов, распределена по биномиальному закону, и вероятности рассчитываем по формуле Бернулли: $P(X = k) = C_n^k p^k (1 - p)^{n - k}$\n",
    "\n",
    "$$P(X = 0) = C_5^0 \\cdot \\frac{1}{4^0} \\cdot \\frac{3^5}{4^5} = \\frac{3^5}{4^5}$$\n",
    "$$P(X = 1) = C_5^1 \\cdot \\frac{1}{4^1} \\cdot \\frac{3^4}{4^4} = \\frac{5\\cdot3^4}{4^5}$$\n",
    "$$P(X = 2) = C_5^2 \\cdot \\frac{1}{4^2} \\cdot \\frac{3^3}{4^3} = \\frac{10\\cdot3^3}{5^5}$$\n",
    "$$P(X = 3) = C_5^3 \\cdot \\frac{1}{4^3} \\cdot \\frac{3^2}{4^2} = \\frac{10\\cdot3^2}{5^5}$$\n",
    "$$P(X = 4) = C_5^4 \\cdot \\frac{1}{4^4} \\cdot \\frac{3^1}{4^1} = \\frac{5\\cdot3}{4^5}$$\n",
    "$$P(X = 5) = C_5^5 \\cdot \\frac{1}{4^5} \\cdot \\frac{3^0}{4^0} = \\frac{1}{4^5}$$\n",
    "\n",
    "<table border=\"3\">\n",
    "    <tr>\n",
    "        <th>$x$</th>\n",
    "        <td>0</td>\n",
    "        <td>1</td>\n",
    "        <td>2</td>\n",
    "        <td>3</td>\n",
    "        <td>4</td>\n",
    "        <td>5</td>\n",
    "</tr>\n",
    "    <tr>\n",
    "        <th>$P(X=x)$</th>\n",
    "        <td>0.2373</td>\n",
    "        <td>0.3955</td>\n",
    "        <td>0.26367</td>\n",
    "        <td>0.08789</td>\n",
    "        <td>0.014648</td>\n",
    "        <td>0.00097656</td>\n",
    "    </tr>\n",
    "</table>\n",
    "\n",
    "$$M(X) = n \\cdot p = \\frac{5}{4}$$\n",
    "\n",
    "$$D(X) = n\\cdot p(1 - p) = \\frac{15}{16}$$"
   ]
  },
  {
   "cell_type": "code",
   "execution_count": 17,
   "metadata": {},
   "outputs": [
    {
     "data": {
      "text/plain": [
       "array([0, 1, 2, 3, 4, 5])"
      ]
     },
     "execution_count": 17,
     "metadata": {},
     "output_type": "execute_result"
    }
   ],
   "source": [
    "import numpy as np\n",
    "\n",
    "x_values = np.arange(0, 6)\n",
    "x_values"
   ]
  },
  {
   "cell_type": "code",
   "execution_count": 18,
   "metadata": {},
   "outputs": [
    {
     "data": {
      "text/plain": [
       "array([0.23730469, 0.39550781, 0.26367188, 0.08789062, 0.01464844,\n",
       "       0.00097656])"
      ]
     },
     "execution_count": 18,
     "metadata": {},
     "output_type": "execute_result"
    }
   ],
   "source": [
    "x_probabilities = np.array([3**5, 5*3**4, 10*3**3, 10*3**2, 15, 1]) / 4**5\n",
    "x_probabilities"
   ]
  },
  {
   "cell_type": "code",
   "execution_count": 19,
   "metadata": {},
   "outputs": [
    {
     "data": {
      "text/plain": [
       "1.0"
      ]
     },
     "execution_count": 19,
     "metadata": {},
     "output_type": "execute_result"
    }
   ],
   "source": [
    "sum(x_probabilities)  # проверка"
   ]
  },
  {
   "cell_type": "code",
   "execution_count": 23,
   "metadata": {},
   "outputs": [
    {
     "data": {
      "text/plain": [
       "(1.25, 1.25)"
      ]
     },
     "execution_count": 23,
     "metadata": {},
     "output_type": "execute_result"
    }
   ],
   "source": [
    "m = x_values.dot(x_probabilities)\n",
    "(m, 5/4)"
   ]
  },
  {
   "cell_type": "code",
   "execution_count": 24,
   "metadata": {},
   "outputs": [
    {
     "data": {
      "text/plain": [
       "(0.9375, 0.9375)"
      ]
     },
     "execution_count": 24,
     "metadata": {},
     "output_type": "execute_result"
    }
   ],
   "source": [
    "y_values = x_values - m\n",
    "z_values = y_values ** 2\n",
    "d = z_values.dot(x_probabilities)\n",
    "(d, 15/16)"
   ]
  },
  {
   "cell_type": "code",
   "execution_count": null,
   "metadata": {},
   "outputs": [],
   "source": []
  }
 ],
 "metadata": {
  "kernelspec": {
   "display_name": "Python 3",
   "language": "python",
   "name": "python3"
  },
  "language_info": {
   "codemirror_mode": {
    "name": "ipython",
    "version": 3
   },
   "file_extension": ".py",
   "mimetype": "text/x-python",
   "name": "python",
   "nbconvert_exporter": "python",
   "pygments_lexer": "ipython3",
   "version": "3.7.3"
  }
 },
 "nbformat": 4,
 "nbformat_minor": 2
}
